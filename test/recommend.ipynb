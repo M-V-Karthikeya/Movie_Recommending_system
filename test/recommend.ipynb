{
 "cells": [
  {
   "cell_type": "code",
   "execution_count": 2,
   "metadata": {},
   "outputs": [
    {
     "name": "stderr",
     "output_type": "stream",
     "text": [
      "[nltk_data] Downloading package stopwords to\n",
      "[nltk_data]     C:\\Users\\karth\\AppData\\Roaming\\nltk_data...\n",
      "[nltk_data]   Package stopwords is already up-to-date!\n"
     ]
    }
   ],
   "source": [
    "import nltk\n",
    "from nltk.corpus import stopwords\n",
    "nltk.download('stopwords')\n",
    "stop_words = set(stopwords.words('english'))\n",
    "\n",
    "def filter_words(story):\n",
    "    story = story.split(' ')\n",
    "    for i in story:\n",
    "        if(i in stop_words):\n",
    "            story.remove(i)\n",
    "    return story"
   ]
  },
  {
   "cell_type": "code",
   "execution_count": 3,
   "metadata": {},
   "outputs": [],
   "source": [
    "import pandas as pd\n",
    "import numpy as np\n",
    "from sklearn.metrics.pairwise import cosine_similarity\n",
    "from sklearn.feature_extraction.text import CountVectorizer\n",
    "\n",
    "df_key = pd.read_csv('/Users/karth/OneDrive/Desktop/OELP/test/keywords.csv',delimiter='\\t')\n",
    "df  = pd.read_csv('/Users/karth/OneDrive/Desktop/OELP/test/features.csv',delimiter='\\t')\n",
    "\n",
    "s = set()                           # set of all unique keywords\n",
    "for i in df_key['k_h']:\n",
    "    x = eval(i)\n",
    "    for j in x.keys():\n",
    "        s.add(j)\n",
    "#print(s)                               \n",
    "M = []                             # M is the matrix where each row represents each movie and column represents each unique keyword\n",
    "for i in df_key['k_h']:\n",
    "    x = eval(i)\n",
    "    l = []\n",
    "    for j in s:\n",
    "        if(j in x.keys()):\n",
    "            l.append(x[j])\n",
    "        else:\n",
    "            l.append(0)\n",
    "    M.append(l)\n",
    "mat = np.array(M)\n",
    "sim_mat = cosine_similarity(mat)          # first similarity matrix which takes only keywords and its helpful score as features\n",
    "#print(sim_mat)"
   ]
  },
  {
   "cell_type": "code",
   "execution_count": 4,
   "metadata": {},
   "outputs": [],
   "source": [
    "\n",
    "df['avg_rating'] = df['avg_rating'].astype(str)\n",
    "features = ['director','cast','avg_rating','writer','title']    # these are the features for second similarity matrix\n",
    "\n",
    "def combine(df_row):                            # combining all the unique features in single line\n",
    "    x = ''\n",
    "    for i in features[:]:\n",
    "        x+=df_row[i]\n",
    "        x+=','\n",
    "    story_arr = filter_words(df_row['storyline'])\n",
    "    for i in story_arr:\n",
    "        x+=i\n",
    "        x+=','\n",
    "    return x\n",
    "\n",
    "cv = CountVectorizer()                                     # this counts frequency of each unique feature in each movie\n",
    "df['final'] = df.apply(combine,axis=1)\n",
    "count_matrix = cv.fit_transform(df['final'])\n",
    "cos_sim = cosine_similarity(count_matrix)\n",
    "#print(cv.get_feature_names_out())\n",
    "#print(count_matrix.toarray())\n",
    "#print(cos_sim)\n"
   ]
  },
  {
   "cell_type": "code",
   "execution_count": 8,
   "metadata": {},
   "outputs": [
    {
     "name": "stdout",
     "output_type": "stream",
     "text": [
      "Annabelle: Creation    Twelve years after the tragic death of their little girl, a doll-maker and his wife welcome a nun and several girls from a shuttered orphanage into their home, where they become the target of the doll-maker's possessed creation, Annabelle.\n",
      "The Conjuring 2    Ed and Lorraine Warren travel to North London to help a single mother raising four children alone in a house plagued by a supernatural spirit.\n",
      "Annabelle Comes Home    While babysitting the daughter of Ed and Lorraine Warren, a teenager and her friend unknowingly awaken an evil spirit trapped in a doll.\n",
      "The Devil Conspiracy    A cult steals the Shroud of Turin for wicked purposes.\n",
      "The Little Hours    In the Middle Ages, a young servant fleeing from his master takes refuge at a convent full of emotionally unstable nuns. Introduced as a deaf mute man, he must fight to hold his cover as the nuns try to resist temptation.\n",
      "The Conjuring: The Devil Made Me Do It    The Warrens investigate a murder that may be linked to a demonic possession.\n",
      "Prey for the Devil    A nun prepares to perform an exorcism and comes face to face with a demonic force with mysterious ties to her past.\n",
      "Men in Black: International    The Men in Black have always protected the Earth from the scum of the universe. In this new adventure, they tackle their biggest threat to date: a mole in the Men in Black organization.\n",
      "The Curse of La Llorona    Ignoring the eerie warning of a troubled mother suspected of child endangerment, a social worker and her own small kids are soon drawn into a frightening supernatural realm.\n",
      "The Unholy    A hearing-impaired girl is visited by the Virgin Mary and can suddenly hear, speak, and heal the sick. As people flock to witness her miracles, terrifying events unfold. Are they the work of the Virgin Mary or something much more sinister?\n"
     ]
    }
   ],
   "source": [
    "final = []                                                 # This is the final matrix which is combination of both the above matrices\n",
    "for i in range(len(sim_mat)):\n",
    "    row = []                                               # both rows and columns represents corresponding movies and the value in that entry will be final similarity score of those 2 movies\n",
    "    for j in range(len(sim_mat[0])):\n",
    "        b = ((0.6*sim_mat[i][j])+(0.4*cos_sim[i][j]))/2    # we are considering more probability (0.6) to first matrix because giving more priority to keywords and their helpful score will give more accurate recommendation\n",
    "        row.append(b)                      # final similarity score = [(0.6)*(similarity score from keywords alone) + (0.4)*(similarity score from remaining features)] \n",
    "    final.append(row)                 # values 0.6 and 0.4 were decided by multiple trails and these values gave more accurate recommendation\n",
    "\n",
    "titles = list(df['title'])                      # now from index of final matrix we will get titlee and story\n",
    "story = list(df['storyline'])\n",
    "t_i = {}\n",
    "i_t = {}\n",
    "for i in range(len(titles)):\n",
    "    t_i[titles[i]] = i\n",
    "    i_t[i] = titles[i]\n",
    "\n",
    "def find(word):\n",
    "    ind = t_i[word]\n",
    "    inds = []\n",
    "    m = list(final[ind]).copy()\n",
    "    for i in range(11):\n",
    "        x = max(m)                             # we are recommending top 10 highest similarity scores\n",
    "        #print(x)\n",
    "        j = m.index(x)\n",
    "        #print(m.index(x))\n",
    "        m[j] = -2\n",
    "        inds.append(j)\n",
    "    for i in inds[1:]:\n",
    "        print(i_t[i],'  ',story[i])\n",
    "\n",
    "find('The Nun')\n"
   ]
  },
  {
   "cell_type": "code",
   "execution_count": null,
   "metadata": {},
   "outputs": [],
   "source": []
  }
 ],
 "metadata": {
  "kernelspec": {
   "display_name": "Python 3",
   "language": "python",
   "name": "python3"
  },
  "language_info": {
   "codemirror_mode": {
    "name": "ipython",
    "version": 3
   },
   "file_extension": ".py",
   "mimetype": "text/x-python",
   "name": "python",
   "nbconvert_exporter": "python",
   "pygments_lexer": "ipython3",
   "version": "3.11.6"
  },
  "orig_nbformat": 4
 },
 "nbformat": 4,
 "nbformat_minor": 2
}
